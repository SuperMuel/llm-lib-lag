{
 "cells": [
  {
   "cell_type": "code",
   "execution_count": 14,
   "metadata": {},
   "outputs": [
    {
     "data": {
      "text/plain": [
       "True"
      ]
     },
     "execution_count": 14,
     "metadata": {},
     "output_type": "execute_result"
    }
   ],
   "source": [
    "from dotenv import load_dotenv\n",
    "\n",
    "load_dotenv()\n"
   ]
  },
  {
   "cell_type": "markdown",
   "metadata": {},
   "source": [
    "# Python"
   ]
  },
  {
   "cell_type": "code",
   "execution_count": 5,
   "metadata": {},
   "outputs": [],
   "source": [
    "import requests\n",
    "from datetime import datetime, date\n",
    "\n",
    "url = \"https://raw.githubusercontent.com/actions/python-versions/main/versions-manifest.json\"\n",
    "resp = requests.get(url)\n",
    "resp.raise_for_status()\n",
    "versions = resp.json()"
   ]
  },
  {
   "cell_type": "code",
   "execution_count": 21,
   "metadata": {},
   "outputs": [
    {
     "data": {
      "text/plain": [
       "[{'version': '3.13.2',\n",
       "  'stable': True,\n",
       "  'release_url': 'https://github.com/actions/python-versions/releases/tag/3.13.2-13149511920'},\n",
       " {'version': '3.13.1',\n",
       "  'stable': True,\n",
       "  'release_url': 'https://github.com/actions/python-versions/releases/tag/3.13.1-13437882550'},\n",
       " {'version': '3.13.0',\n",
       "  'stable': True,\n",
       "  'release_url': 'https://github.com/actions/python-versions/releases/tag/3.13.0-11228081754'},\n",
       " {'version': '3.12.9',\n",
       "  'stable': True,\n",
       "  'release_url': 'https://github.com/actions/python-versions/releases/tag/3.12.9-13149478207'},\n",
       " {'version': '3.12.8',\n",
       "  'stable': True,\n",
       "  'release_url': 'https://github.com/actions/python-versions/releases/tag/3.12.8-12154062663'}]"
      ]
     },
     "execution_count": 21,
     "metadata": {},
     "output_type": "execute_result"
    }
   ],
   "source": [
    "# Filter for stable versions (no alpha/beta/rc) and sort by version number\n",
    "stable_versions = [\n",
    "    v for v in versions \n",
    "    if not any(x in v[\"version\"] for x in [\"rc\", \"beta\", \"alpha\"])\n",
    "    and v[\"stable\"] is True\n",
    "]\n",
    "\n",
    "# keep all keys except \"files\"\n",
    "stable_versions = [\n",
    "    {k: v for k, v in v.items() if k != \"files\"}\n",
    "    for v in stable_versions\n",
    "]\n",
    "\n",
    "\n",
    "stable_versions[:5]\n",
    "\n",
    "# [{'version': '3.13.2',\n",
    "#   'stable': True,\n",
    "#   'release_url': 'https://github.com/actions/python-versions/releases/tag/3.13.2-13149511920',\n",
    "#   'files': [{'filename': 'python-3.13.2-darwin-arm64.tar.gz',\n",
    "#     'arch': 'arm64',\n",
    "#     'platform': 'darwin',\n",
    "#     'download_url': 'https://github.com/actions/python-versions/releases/download/3.13.2-13149511920/python-3.13.2-darwin-arm64.tar.gz'},\n",
    "#    {'filename': 'python-3.13.2-darwin-x64.tar.gz',\n",
    "#     'arch': 'x64',\n",
    "#     'platform': 'darwin',\n",
    "#     'download_url': 'https://github.com/actions/python-versions/releases/download/3.13.2-13149511920/python-3.13.2-darwin-x64.tar.gz'},\n",
    "#    {'filename': 'python-3.13.2-linux-20.04-x64.tar.gz',\n",
    "#     'arch': 'x6"
   ]
  },
  {
   "cell_type": "code",
   "execution_count": null,
   "metadata": {},
   "outputs": [],
   "source": [
    "# print the whole json but without \"files\"\n",
    "\n"
   ]
  },
  {
   "cell_type": "code",
   "execution_count": 10,
   "metadata": {},
   "outputs": [
    {
     "data": {
      "text/plain": [
       "{'version': '3.13.2',\n",
       " 'stable': True,\n",
       " 'release_url': 'https://github.com/actions/python-versions/releases/tag/3.13.2-13149511920',\n",
       " 'files': [{'filename': 'python-3.13.2-darwin-arm64.tar.gz',\n",
       "   'arch': 'arm64',\n",
       "   'platform': 'darwin',\n",
       "   'download_url': 'https://github.com/actions/python-versions/releases/download/3.13.2-13149511920/python-3.13.2-darwin-arm64.tar.gz'},\n",
       "  {'filename': 'python-3.13.2-darwin-x64.tar.gz',\n",
       "   'arch': 'x64',\n",
       "   'platform': 'darwin',\n",
       "   'download_url': 'https://github.com/actions/python-versions/releases/download/3.13.2-13149511920/python-3.13.2-darwin-x64.tar.gz'},\n",
       "  {'filename': 'python-3.13.2-linux-20.04-x64.tar.gz',\n",
       "   'arch': 'x64',\n",
       "   'platform': 'linux',\n",
       "   'platform_version': '20.04',\n",
       "   'download_url': 'https://github.com/actions/python-versions/releases/download/3.13.2-13149511920/python-3.13.2-linux-20.04-x64.tar.gz'},\n",
       "  {'filename': 'python-3.13.2-linux-22.04-arm64.tar.gz',\n",
       "   'arch': 'arm64',\n",
       "   'platform': 'linux',\n",
       "   'platform_version': '22.04',\n",
       "   'download_url': 'https://github.com/actions/python-versions/releases/download/3.13.2-13149511920/python-3.13.2-linux-22.04-arm64.tar.gz'},\n",
       "  {'filename': 'python-3.13.2-linux-22.04-x64.tar.gz',\n",
       "   'arch': 'x64',\n",
       "   'platform': 'linux',\n",
       "   'platform_version': '22.04',\n",
       "   'download_url': 'https://github.com/actions/python-versions/releases/download/3.13.2-13149511920/python-3.13.2-linux-22.04-x64.tar.gz'},\n",
       "  {'filename': 'python-3.13.2-linux-24.04-arm64.tar.gz',\n",
       "   'arch': 'arm64',\n",
       "   'platform': 'linux',\n",
       "   'platform_version': '24.04',\n",
       "   'download_url': 'https://github.com/actions/python-versions/releases/download/3.13.2-13149511920/python-3.13.2-linux-24.04-arm64.tar.gz'},\n",
       "  {'filename': 'python-3.13.2-linux-24.04-x64.tar.gz',\n",
       "   'arch': 'x64',\n",
       "   'platform': 'linux',\n",
       "   'platform_version': '24.04',\n",
       "   'download_url': 'https://github.com/actions/python-versions/releases/download/3.13.2-13149511920/python-3.13.2-linux-24.04-x64.tar.gz'},\n",
       "  {'filename': 'python-3.13.2-win32-arm64.zip',\n",
       "   'arch': 'arm64',\n",
       "   'platform': 'win32',\n",
       "   'download_url': 'https://github.com/actions/python-versions/releases/download/3.13.2-13149511920/python-3.13.2-win32-arm64.zip'},\n",
       "  {'filename': 'python-3.13.2-win32-x64.zip',\n",
       "   'arch': 'x64',\n",
       "   'platform': 'win32',\n",
       "   'download_url': 'https://github.com/actions/python-versions/releases/download/3.13.2-13149511920/python-3.13.2-win32-x64.zip'},\n",
       "  {'filename': 'python-3.13.2-win32-x86.zip',\n",
       "   'arch': 'x86',\n",
       "   'platform': 'win32',\n",
       "   'download_url': 'https://github.com/actions/python-versions/releases/download/3.13.2-13149511920/python-3.13.2-win32-x86.zip'}]}"
      ]
     },
     "execution_count": 10,
     "metadata": {},
     "output_type": "execute_result"
    }
   ],
   "source": [
    "stable_versions[0]"
   ]
  },
  {
   "cell_type": "code",
   "execution_count": 19,
   "metadata": {},
   "outputs": [
    {
     "name": "stdout",
     "output_type": "stream",
     "text": [
      "https://api.github.com/repos/actions/python-versions/releases/tags/3.13.2-13149511920\n",
      "{'url': 'https://api.github.com/repos/actions/python-versions/releases/198489751', 'assets_url': 'https://api.github.com/repos/actions/python-versions/releases/198489751/assets', 'upload_url': 'https://uploads.github.com/repos/actions/python-versions/releases/198489751/assets{?name,label}', 'html_url': 'https://github.com/actions/python-versions/releases/tag/3.13.2-13149511920', 'id': 198489751, 'author': {'login': 'github-actions[bot]', 'id': 41898282, 'node_id': 'MDM6Qm90NDE4OTgyODI=', 'avatar_url': 'https://avatars.githubusercontent.com/in/15368?v=4', 'gravatar_id': '', 'url': 'https://api.github.com/users/github-actions%5Bbot%5D', 'html_url': 'https://github.com/apps/github-actions', 'followers_url': 'https://api.github.com/users/github-actions%5Bbot%5D/followers', 'following_url': 'https://api.github.com/users/github-actions%5Bbot%5D/following{/other_user}', 'gists_url': 'https://api.github.com/users/github-actions%5Bbot%5D/gists{/gist_id}', 'starred_url': 'https://api.github.com/users/github-actions%5Bbot%5D/starred{/owner}{/repo}', 'subscriptions_url': 'https://api.github.com/users/github-actions%5Bbot%5D/subscriptions', 'organizations_url': 'https://api.github.com/users/github-actions%5Bbot%5D/orgs', 'repos_url': 'https://api.github.com/users/github-actions%5Bbot%5D/repos', 'events_url': 'https://api.github.com/users/github-actions%5Bbot%5D/events{/privacy}', 'received_events_url': 'https://api.github.com/users/github-actions%5Bbot%5D/received_events', 'type': 'Bot', 'user_view_type': 'public', 'site_admin': False}, 'node_id': 'RE_kwDODufi7c4L1LaX', 'tag_name': '3.13.2-13149511920', 'target_commitish': 'e5b79ff409a5612d614408042b91e7070e4554d2', 'name': '3.13.2', 'draft': False, 'prerelease': False, 'created_at': '2025-01-15T15:24:57Z', 'published_at': '2025-02-05T03:41:52Z', 'assets': [{'url': 'https://api.github.com/repos/actions/python-versions/releases/assets/226387799', 'id': 226387799, 'node_id': 'RA_kwDODufi7c4NfmdX', 'name': 'hashes.sha256', 'label': '', 'uploader': {'login': 'github-actions[bot]', 'id': 41898282, 'node_id': 'MDM6Qm90NDE4OTgyODI=', 'avatar_url': 'https://avatars.githubusercontent.com/in/15368?v=4', 'gravatar_id': '', 'url': 'https://api.github.com/users/github-actions%5Bbot%5D', 'html_url': 'https://github.com/apps/github-actions', 'followers_url': 'https://api.github.com/users/github-actions%5Bbot%5D/followers', 'following_url': 'https://api.github.com/users/github-actions%5Bbot%5D/following{/other_user}', 'gists_url': 'https://api.github.com/users/github-actions%5Bbot%5D/gists{/gist_id}', 'starred_url': 'https://api.github.com/users/github-actions%5Bbot%5D/starred{/owner}{/repo}', 'subscriptions_url': 'https://api.github.com/users/github-actions%5Bbot%5D/subscriptions', 'organizations_url': 'https://api.github.com/users/github-actions%5Bbot%5D/orgs', 'repos_url': 'https://api.github.com/users/github-actions%5Bbot%5D/repos', 'events_url': 'https://api.github.com/users/github-actions%5Bbot%5D/events{/privacy}', 'received_events_url': 'https://api.github.com/users/github-actions%5Bbot%5D/received_events', 'type': 'Bot', 'user_view_type': 'public', 'site_admin': False}, 'content_type': 'application/json; charset=utf-8', 'state': 'uploaded', 'size': 991, 'download_count': 4, 'created_at': '2025-02-05T03:41:55Z', 'updated_at': '2025-02-05T03:41:55Z', 'browser_download_url': 'https://github.com/actions/python-versions/releases/download/3.13.2-13149511920/hashes.sha256'}, {'url': 'https://api.github.com/repos/actions/python-versions/releases/assets/226387798', 'id': 226387798, 'node_id': 'RA_kwDODufi7c4NfmdW', 'name': 'python-3.13.2-darwin-arm64.tar.gz', 'label': '', 'uploader': {'login': 'github-actions[bot]', 'id': 41898282, 'node_id': 'MDM6Qm90NDE4OTgyODI=', 'avatar_url': 'https://avatars.githubusercontent.com/in/15368?v=4', 'gravatar_id': '', 'url': 'https://api.github.com/users/github-actions%5Bbot%5D', 'html_url': 'https://github.com/apps/github-actions', 'followers_url': 'https://api.github.com/users/github-actions%5Bbot%5D/followers', 'following_url': 'https://api.github.com/users/github-actions%5Bbot%5D/following{/other_user}', 'gists_url': 'https://api.github.com/users/github-actions%5Bbot%5D/gists{/gist_id}', 'starred_url': 'https://api.github.com/users/github-actions%5Bbot%5D/starred{/owner}{/repo}', 'subscriptions_url': 'https://api.github.com/users/github-actions%5Bbot%5D/subscriptions', 'organizations_url': 'https://api.github.com/users/github-actions%5Bbot%5D/orgs', 'repos_url': 'https://api.github.com/users/github-actions%5Bbot%5D/repos', 'events_url': 'https://api.github.com/users/github-actions%5Bbot%5D/events{/privacy}', 'received_events_url': 'https://api.github.com/users/github-actions%5Bbot%5D/received_events', 'type': 'Bot', 'user_view_type': 'public', 'site_admin': False}, 'content_type': 'application/json; charset=utf-8', 'state': 'uploaded', 'size': 70510275, 'download_count': 5645, 'created_at': '2025-02-05T03:41:55Z', 'updated_at': '2025-02-05T03:41:57Z', 'browser_download_url': 'https://github.com/actions/python-versions/releases/download/3.13.2-13149511920/python-3.13.2-darwin-arm64.tar.gz'}, {'url': 'https://api.github.com/repos/actions/python-versions/releases/assets/226387800', 'id': 226387800, 'node_id': 'RA_kwDODufi7c4NfmdY', 'name': 'python-3.13.2-darwin-x64.tar.gz', 'label': '', 'uploader': {'login': 'github-actions[bot]', 'id': 41898282, 'node_id': 'MDM6Qm90NDE4OTgyODI=', 'avatar_url': 'https://avatars.githubusercontent.com/in/15368?v=4', 'gravatar_id': '', 'url': 'https://api.github.com/users/github-actions%5Bbot%5D', 'html_url': 'https://github.com/apps/github-actions', 'followers_url': 'https://api.github.com/users/github-actions%5Bbot%5D/followers', 'following_url': 'https://api.github.com/users/github-actions%5Bbot%5D/following{/other_user}', 'gists_url': 'https://api.github.com/users/github-actions%5Bbot%5D/gists{/gist_id}', 'starred_url': 'https://api.github.com/users/github-actions%5Bbot%5D/starred{/owner}{/repo}', 'subscriptions_url': 'https://api.github.com/users/github-actions%5Bbot%5D/subscriptions', 'organizations_url': 'https://api.github.com/users/github-actions%5Bbot%5D/orgs', 'repos_url': 'https://api.github.com/users/github-actions%5Bbot%5D/repos', 'events_url': 'https://api.github.com/users/github-actions%5Bbot%5D/events{/privacy}', 'received_events_url': 'https://api.github.com/users/github-actions%5Bbot%5D/received_events', 'type': 'Bot', 'user_view_type': 'public', 'site_admin': False}, 'content_type': 'application/json; charset=utf-8', 'state': 'uploaded', 'size': 70510280, 'download_count': 17523, 'created_at': '2025-02-05T03:41:55Z', 'updated_at': '2025-02-05T03:41:57Z', 'browser_download_url': 'https://github.com/actions/python-versions/releases/download/3.13.2-13149511920/python-3.13.2-darwin-x64.tar.gz'}, {'url': 'https://api.github.com/repos/actions/python-versions/releases/assets/226387802', 'id': 226387802, 'node_id': 'RA_kwDODufi7c4Nfmda', 'name': 'python-3.13.2-linux-20.04-x64.tar.gz', 'label': '', 'uploader': {'login': 'github-actions[bot]', 'id': 41898282, 'node_id': 'MDM6Qm90NDE4OTgyODI=', 'avatar_url': 'https://avatars.githubusercontent.com/in/15368?v=4', 'gravatar_id': '', 'url': 'https://api.github.com/users/github-actions%5Bbot%5D', 'html_url': 'https://github.com/apps/github-actions', 'followers_url': 'https://api.github.com/users/github-actions%5Bbot%5D/followers', 'following_url': 'https://api.github.com/users/github-actions%5Bbot%5D/following{/other_user}', 'gists_url': 'https://api.github.com/users/github-actions%5Bbot%5D/gists{/gist_id}', 'starred_url': 'https://api.github.com/users/github-actions%5Bbot%5D/starred{/owner}{/repo}', 'subscriptions_url': 'https://api.github.com/users/github-actions%5Bbot%5D/subscriptions', 'organizations_url': 'https://api.github.com/users/github-actions%5Bbot%5D/orgs', 'repos_url': 'https://api.github.com/users/github-actions%5Bbot%5D/repos', 'events_url': 'https://api.github.com/users/github-actions%5Bbot%5D/events{/privacy}', 'received_events_url': 'https://api.github.com/users/github-actions%5Bbot%5D/received_events', 'type': 'Bot', 'user_view_type': 'public', 'site_admin': False}, 'content_type': 'application/json; charset=utf-8', 'state': 'uploaded', 'size': 137670964, 'download_count': 148033, 'created_at': '2025-02-05T03:41:55Z', 'updated_at': '2025-02-05T03:41:59Z', 'browser_download_url': 'https://github.com/actions/python-versions/releases/download/3.13.2-13149511920/python-3.13.2-linux-20.04-x64.tar.gz'}, {'url': 'https://api.github.com/repos/actions/python-versions/releases/assets/226387804', 'id': 226387804, 'node_id': 'RA_kwDODufi7c4Nfmdc', 'name': 'python-3.13.2-linux-22.04-arm64.tar.gz', 'label': '', 'uploader': {'login': 'github-actions[bot]', 'id': 41898282, 'node_id': 'MDM6Qm90NDE4OTgyODI=', 'avatar_url': 'https://avatars.githubusercontent.com/in/15368?v=4', 'gravatar_id': '', 'url': 'https://api.github.com/users/github-actions%5Bbot%5D', 'html_url': 'https://github.com/apps/github-actions', 'followers_url': 'https://api.github.com/users/github-actions%5Bbot%5D/followers', 'following_url': 'https://api.github.com/users/github-actions%5Bbot%5D/following{/other_user}', 'gists_url': 'https://api.github.com/users/github-actions%5Bbot%5D/gists{/gist_id}', 'starred_url': 'https://api.github.com/users/github-actions%5Bbot%5D/starred{/owner}{/repo}', 'subscriptions_url': 'https://api.github.com/users/github-actions%5Bbot%5D/subscriptions', 'organizations_url': 'https://api.github.com/users/github-actions%5Bbot%5D/orgs', 'repos_url': 'https://api.github.com/users/github-actions%5Bbot%5D/repos', 'events_url': 'https://api.github.com/users/github-actions%5Bbot%5D/events{/privacy}', 'received_events_url': 'https://api.github.com/users/github-actions%5Bbot%5D/received_events', 'type': 'Bot', 'user_view_type': 'public', 'site_admin': False}, 'content_type': 'application/json; charset=utf-8', 'state': 'uploaded', 'size': 128179558, 'download_count': 19460, 'created_at': '2025-02-05T03:41:56Z', 'updated_at': '2025-02-05T03:41:59Z', 'browser_download_url': 'https://github.com/actions/python-versions/releases/download/3.13.2-13149511920/python-3.13.2-linux-22.04-arm64.tar.gz'}, {'url': 'https://api.github.com/repos/actions/python-versions/releases/assets/226387809', 'id': 226387809, 'node_id': 'RA_kwDODufi7c4Nfmdh', 'name': 'python-3.13.2-linux-22.04-x64.tar.gz', 'label': '', 'uploader': {'login': 'github-actions[bot]', 'id': 41898282, 'node_id': 'MDM6Qm90NDE4OTgyODI=', 'avatar_url': 'https://avatars.githubusercontent.com/in/15368?v=4', 'gravatar_id': '', 'url': 'https://api.github.com/users/github-actions%5Bbot%5D', 'html_url': 'https://github.com/apps/github-actions', 'followers_url': 'https://api.github.com/users/github-actions%5Bbot%5D/followers', 'following_url': 'https://api.github.com/users/github-actions%5Bbot%5D/following{/other_user}', 'gists_url': 'https://api.github.com/users/github-actions%5Bbot%5D/gists{/gist_id}', 'starred_url': 'https://api.github.com/users/github-actions%5Bbot%5D/starred{/owner}{/repo}', 'subscriptions_url': 'https://api.github.com/users/github-actions%5Bbot%5D/subscriptions', 'organizations_url': 'https://api.github.com/users/github-actions%5Bbot%5D/orgs', 'repos_url': 'https://api.github.com/users/github-actions%5Bbot%5D/repos', 'events_url': 'https://api.github.com/users/github-actions%5Bbot%5D/events{/privacy}', 'received_events_url': 'https://api.github.com/users/github-actions%5Bbot%5D/received_events', 'type': 'Bot', 'user_view_type': 'public', 'site_admin': False}, 'content_type': 'application/json; charset=utf-8', 'state': 'uploaded', 'size': 129823301, 'download_count': 529887, 'created_at': '2025-02-05T03:41:56Z', 'updated_at': '2025-02-05T03:41:59Z', 'browser_download_url': 'https://github.com/actions/python-versions/releases/download/3.13.2-13149511920/python-3.13.2-linux-22.04-x64.tar.gz'}, {'url': 'https://api.github.com/repos/actions/python-versions/releases/assets/226387805', 'id': 226387805, 'node_id': 'RA_kwDODufi7c4Nfmdd', 'name': 'python-3.13.2-linux-24.04-arm64.tar.gz', 'label': '', 'uploader': {'login': 'github-actions[bot]', 'id': 41898282, 'node_id': 'MDM6Qm90NDE4OTgyODI=', 'avatar_url': 'https://avatars.githubusercontent.com/in/15368?v=4', 'gravatar_id': '', 'url': 'https://api.github.com/users/github-actions%5Bbot%5D', 'html_url': 'https://github.com/apps/github-actions', 'followers_url': 'https://api.github.com/users/github-actions%5Bbot%5D/followers', 'following_url': 'https://api.github.com/users/github-actions%5Bbot%5D/following{/other_user}', 'gists_url': 'https://api.github.com/users/github-actions%5Bbot%5D/gists{/gist_id}', 'starred_url': 'https://api.github.com/users/github-actions%5Bbot%5D/starred{/owner}{/repo}', 'subscriptions_url': 'https://api.github.com/users/github-actions%5Bbot%5D/subscriptions', 'organizations_url': 'https://api.github.com/users/github-actions%5Bbot%5D/orgs', 'repos_url': 'https://api.github.com/users/github-actions%5Bbot%5D/repos', 'events_url': 'https://api.github.com/users/github-actions%5Bbot%5D/events{/privacy}', 'received_events_url': 'https://api.github.com/users/github-actions%5Bbot%5D/received_events', 'type': 'Bot', 'user_view_type': 'public', 'site_admin': False}, 'content_type': 'application/json; charset=utf-8', 'state': 'uploaded', 'size': 126953505, 'download_count': 21476, 'created_at': '2025-02-05T03:41:56Z', 'updated_at': '2025-02-05T03:41:59Z', 'browser_download_url': 'https://github.com/actions/python-versions/releases/download/3.13.2-13149511920/python-3.13.2-linux-24.04-arm64.tar.gz'}, {'url': 'https://api.github.com/repos/actions/python-versions/releases/assets/226387803', 'id': 226387803, 'node_id': 'RA_kwDODufi7c4Nfmdb', 'name': 'python-3.13.2-linux-24.04-x64.tar.gz', 'label': '', 'uploader': {'login': 'github-actions[bot]', 'id': 41898282, 'node_id': 'MDM6Qm90NDE4OTgyODI=', 'avatar_url': 'https://avatars.githubusercontent.com/in/15368?v=4', 'gravatar_id': '', 'url': 'https://api.github.com/users/github-actions%5Bbot%5D', 'html_url': 'https://github.com/apps/github-actions', 'followers_url': 'https://api.github.com/users/github-actions%5Bbot%5D/followers', 'following_url': 'https://api.github.com/users/github-actions%5Bbot%5D/following{/other_user}', 'gists_url': 'https://api.github.com/users/github-actions%5Bbot%5D/gists{/gist_id}', 'starred_url': 'https://api.github.com/users/github-actions%5Bbot%5D/starred{/owner}{/repo}', 'subscriptions_url': 'https://api.github.com/users/github-actions%5Bbot%5D/subscriptions', 'organizations_url': 'https://api.github.com/users/github-actions%5Bbot%5D/orgs', 'repos_url': 'https://api.github.com/users/github-actions%5Bbot%5D/repos', 'events_url': 'https://api.github.com/users/github-actions%5Bbot%5D/events{/privacy}', 'received_events_url': 'https://api.github.com/users/github-actions%5Bbot%5D/received_events', 'type': 'Bot', 'user_view_type': 'public', 'site_admin': False}, 'content_type': 'application/json; charset=utf-8', 'state': 'uploaded', 'size': 128626928, 'download_count': 90233, 'created_at': '2025-02-05T03:41:55Z', 'updated_at': '2025-02-05T03:41:59Z', 'browser_download_url': 'https://github.com/actions/python-versions/releases/download/3.13.2-13149511920/python-3.13.2-linux-24.04-x64.tar.gz'}, {'url': 'https://api.github.com/repos/actions/python-versions/releases/assets/226387806', 'id': 226387806, 'node_id': 'RA_kwDODufi7c4Nfmde', 'name': 'python-3.13.2-win32-arm64.zip', 'label': '', 'uploader': {'login': 'github-actions[bot]', 'id': 41898282, 'node_id': 'MDM6Qm90NDE4OTgyODI=', 'avatar_url': 'https://avatars.githubusercontent.com/in/15368?v=4', 'gravatar_id': '', 'url': 'https://api.github.com/users/github-actions%5Bbot%5D', 'html_url': 'https://github.com/apps/github-actions', 'followers_url': 'https://api.github.com/users/github-actions%5Bbot%5D/followers', 'following_url': 'https://api.github.com/users/github-actions%5Bbot%5D/following{/other_user}', 'gists_url': 'https://api.github.com/users/github-actions%5Bbot%5D/gists{/gist_id}', 'starred_url': 'https://api.github.com/users/github-actions%5Bbot%5D/starred{/owner}{/repo}', 'subscriptions_url': 'https://api.github.com/users/github-actions%5Bbot%5D/subscriptions', 'organizations_url': 'https://api.github.com/users/github-actions%5Bbot%5D/orgs', 'repos_url': 'https://api.github.com/users/github-actions%5Bbot%5D/repos', 'events_url': 'https://api.github.com/users/github-actions%5Bbot%5D/events{/privacy}', 'received_events_url': 'https://api.github.com/users/github-actions%5Bbot%5D/received_events', 'type': 'Bot', 'user_view_type': 'public', 'site_admin': False}, 'content_type': 'application/json; charset=utf-8', 'state': 'uploaded', 'size': 27573558, 'download_count': 117, 'created_at': '2025-02-05T03:41:56Z', 'updated_at': '2025-02-05T03:41:57Z', 'browser_download_url': 'https://github.com/actions/python-versions/releases/download/3.13.2-13149511920/python-3.13.2-win32-arm64.zip'}, {'url': 'https://api.github.com/repos/actions/python-versions/releases/assets/226387807', 'id': 226387807, 'node_id': 'RA_kwDODufi7c4Nfmdf', 'name': 'python-3.13.2-win32-x64.zip', 'label': '', 'uploader': {'login': 'github-actions[bot]', 'id': 41898282, 'node_id': 'MDM6Qm90NDE4OTgyODI=', 'avatar_url': 'https://avatars.githubusercontent.com/in/15368?v=4', 'gravatar_id': '', 'url': 'https://api.github.com/users/github-actions%5Bbot%5D', 'html_url': 'https://github.com/apps/github-actions', 'followers_url': 'https://api.github.com/users/github-actions%5Bbot%5D/followers', 'following_url': 'https://api.github.com/users/github-actions%5Bbot%5D/following{/other_user}', 'gists_url': 'https://api.github.com/users/github-actions%5Bbot%5D/gists{/gist_id}', 'starred_url': 'https://api.github.com/users/github-actions%5Bbot%5D/starred{/owner}{/repo}', 'subscriptions_url': 'https://api.github.com/users/github-actions%5Bbot%5D/subscriptions', 'organizations_url': 'https://api.github.com/users/github-actions%5Bbot%5D/orgs', 'repos_url': 'https://api.github.com/users/github-actions%5Bbot%5D/repos', 'events_url': 'https://api.github.com/users/github-actions%5Bbot%5D/events{/privacy}', 'received_events_url': 'https://api.github.com/users/github-actions%5Bbot%5D/received_events', 'type': 'Bot', 'user_view_type': 'public', 'site_admin': False}, 'content_type': 'application/json; charset=utf-8', 'state': 'uploaded', 'size': 28315703, 'download_count': 29429, 'created_at': '2025-02-05T03:41:56Z', 'updated_at': '2025-02-05T03:41:57Z', 'browser_download_url': 'https://github.com/actions/python-versions/releases/download/3.13.2-13149511920/python-3.13.2-win32-x64.zip'}, {'url': 'https://api.github.com/repos/actions/python-versions/releases/assets/226387808', 'id': 226387808, 'node_id': 'RA_kwDODufi7c4Nfmdg', 'name': 'python-3.13.2-win32-x86.zip', 'label': '', 'uploader': {'login': 'github-actions[bot]', 'id': 41898282, 'node_id': 'MDM6Qm90NDE4OTgyODI=', 'avatar_url': 'https://avatars.githubusercontent.com/in/15368?v=4', 'gravatar_id': '', 'url': 'https://api.github.com/users/github-actions%5Bbot%5D', 'html_url': 'https://github.com/apps/github-actions', 'followers_url': 'https://api.github.com/users/github-actions%5Bbot%5D/followers', 'following_url': 'https://api.github.com/users/github-actions%5Bbot%5D/following{/other_user}', 'gists_url': 'https://api.github.com/users/github-actions%5Bbot%5D/gists{/gist_id}', 'starred_url': 'https://api.github.com/users/github-actions%5Bbot%5D/starred{/owner}{/repo}', 'subscriptions_url': 'https://api.github.com/users/github-actions%5Bbot%5D/subscriptions', 'organizations_url': 'https://api.github.com/users/github-actions%5Bbot%5D/orgs', 'repos_url': 'https://api.github.com/users/github-actions%5Bbot%5D/repos', 'events_url': 'https://api.github.com/users/github-actions%5Bbot%5D/events{/privacy}', 'received_events_url': 'https://api.github.com/users/github-actions%5Bbot%5D/received_events', 'type': 'Bot', 'user_view_type': 'public', 'site_admin': False}, 'content_type': 'application/json; charset=utf-8', 'state': 'uploaded', 'size': 26980555, 'download_count': 1871, 'created_at': '2025-02-05T03:41:56Z', 'updated_at': '2025-02-05T03:41:57Z', 'browser_download_url': 'https://github.com/actions/python-versions/releases/download/3.13.2-13149511920/python-3.13.2-win32-x86.zip'}], 'tarball_url': 'https://api.github.com/repos/actions/python-versions/tarball/3.13.2-13149511920', 'zipball_url': 'https://api.github.com/repos/actions/python-versions/zipball/3.13.2-13149511920', 'body': 'Python 3.13.2', 'reactions': {'url': 'https://api.github.com/repos/actions/python-versions/releases/198489751/reactions', 'total_count': 3, '+1': 1, '-1': 0, 'laugh': 0, 'hooray': 0, 'confused': 0, 'heart': 0, 'rocket': 1, 'eyes': 1}}\n",
      "Release date: 2025-02-05\n"
     ]
    }
   ],
   "source": [
    "import os\n",
    "\n",
    "# Get latest version\n",
    "latest = stable_versions[0]\n",
    "release_url = latest[\"release_url\"]\n",
    "release_url\n",
    "# 'https://github.com/actions/python-versions/releases/tag/3.13.2-13149511920'\n",
    "\n",
    "# Parse release date from GitHub API\n",
    "\n",
    "\n",
    "\n",
    "token = os.environ.get(\"GITHUB_TOKEN\")\n",
    "headers = {\"Accept\": \"application/vnd.github.v3+json\"}\n",
    "if token:\n",
    "    headers[\"Authorization\"] = f\"Bearer {token}\"\n",
    "\n",
    "api_url = release_url.replace(\"github.com\", \"api.github.com/repos\").replace(\"/tag/\", \"/tags/\")\n",
    "print(api_url)\n",
    "resp = requests.get(api_url, headers=headers)\n",
    "resp.raise_for_status()\n",
    "release_data = resp.json()\n",
    "print(release_data)\n",
    "\n",
    "release_date = datetime.fromisoformat(release_data[\"published_at\"]).date()\n",
    "print(f\"Release date: {release_date}\")\n"
   ]
  },
  {
   "cell_type": "code",
   "execution_count": null,
   "metadata": {},
   "outputs": [],
   "source": [
    "# fetch release url "
   ]
  },
  {
   "cell_type": "code",
   "execution_count": 3,
   "metadata": {},
   "outputs": [
    {
     "ename": "ValueError",
     "evalue": "time data 'Release date' does not match format '%B %d, %Y'",
     "output_type": "error",
     "traceback": [
      "\u001b[0;31m---------------------------------------------------------------------------\u001b[0m",
      "\u001b[0;31mValueError\u001b[0m                                Traceback (most recent call last)",
      "Cell \u001b[0;32mIn[3], line 30\u001b[0m\n\u001b[1;32m     25\u001b[0m     release_date \u001b[38;5;241m=\u001b[39m datetime\u001b[38;5;241m.\u001b[39mstrptime(latest_date_str, \u001b[38;5;124m\"\u001b[39m\u001b[38;5;124m%\u001b[39m\u001b[38;5;124mB \u001b[39m\u001b[38;5;132;01m%d\u001b[39;00m\u001b[38;5;124m, \u001b[39m\u001b[38;5;124m%\u001b[39m\u001b[38;5;124mY\u001b[39m\u001b[38;5;124m\"\u001b[39m)\u001b[38;5;241m.\u001b[39mdate()\n\u001b[1;32m     27\u001b[0m     \u001b[38;5;28;01mreturn\u001b[39;00m version, release_date\n\u001b[0;32m---> 30\u001b[0m \u001b[43mfetch_python_latest_stable\u001b[49m\u001b[43m(\u001b[49m\u001b[43m)\u001b[49m\n",
      "Cell \u001b[0;32mIn[3], line 25\u001b[0m, in \u001b[0;36mfetch_python_latest_stable\u001b[0;34m()\u001b[0m\n\u001b[1;32m     23\u001b[0m     \u001b[38;5;28;01mraise\u001b[39;00m \u001b[38;5;167;01mValueError\u001b[39;00m(\u001b[38;5;124mf\u001b[39m\u001b[38;5;124m\"\u001b[39m\u001b[38;5;124mCould not parse version from text: \u001b[39m\u001b[38;5;132;01m{\u001b[39;00mlatest_release\u001b[38;5;132;01m}\u001b[39;00m\u001b[38;5;124m\"\u001b[39m)\n\u001b[1;32m     24\u001b[0m version \u001b[38;5;241m=\u001b[39m match\u001b[38;5;241m.\u001b[39mgroup(\u001b[38;5;241m1\u001b[39m)\n\u001b[0;32m---> 25\u001b[0m release_date \u001b[38;5;241m=\u001b[39m \u001b[43mdatetime\u001b[49m\u001b[38;5;241;43m.\u001b[39;49m\u001b[43mstrptime\u001b[49m\u001b[43m(\u001b[49m\u001b[43mlatest_date_str\u001b[49m\u001b[43m,\u001b[49m\u001b[43m \u001b[49m\u001b[38;5;124;43m\"\u001b[39;49m\u001b[38;5;124;43m%\u001b[39;49m\u001b[38;5;124;43mB \u001b[39;49m\u001b[38;5;132;43;01m%d\u001b[39;49;00m\u001b[38;5;124;43m, \u001b[39;49m\u001b[38;5;124;43m%\u001b[39;49m\u001b[38;5;124;43mY\u001b[39;49m\u001b[38;5;124;43m\"\u001b[39;49m\u001b[43m)\u001b[49m\u001b[38;5;241m.\u001b[39mdate()\n\u001b[1;32m     27\u001b[0m \u001b[38;5;28;01mreturn\u001b[39;00m version, release_date\n",
      "File \u001b[0;32m~/.local/share/uv/python/cpython-3.12.3-macos-aarch64-none/lib/python3.12/_strptime.py:554\u001b[0m, in \u001b[0;36m_strptime_datetime\u001b[0;34m(cls, data_string, format)\u001b[0m\n\u001b[1;32m    551\u001b[0m \u001b[38;5;28;01mdef\u001b[39;00m\u001b[38;5;250m \u001b[39m\u001b[38;5;21m_strptime_datetime\u001b[39m(\u001b[38;5;28mcls\u001b[39m, data_string, \u001b[38;5;28mformat\u001b[39m\u001b[38;5;241m=\u001b[39m\u001b[38;5;124m\"\u001b[39m\u001b[38;5;132;01m%a\u001b[39;00m\u001b[38;5;124m \u001b[39m\u001b[38;5;124m%\u001b[39m\u001b[38;5;124mb \u001b[39m\u001b[38;5;132;01m%d\u001b[39;00m\u001b[38;5;124m \u001b[39m\u001b[38;5;124m%\u001b[39m\u001b[38;5;124mH:\u001b[39m\u001b[38;5;124m%\u001b[39m\u001b[38;5;124mM:\u001b[39m\u001b[38;5;124m%\u001b[39m\u001b[38;5;124mS \u001b[39m\u001b[38;5;124m%\u001b[39m\u001b[38;5;124mY\u001b[39m\u001b[38;5;124m\"\u001b[39m):\n\u001b[1;32m    552\u001b[0m \u001b[38;5;250m    \u001b[39m\u001b[38;5;124;03m\"\"\"Return a class cls instance based on the input string and the\u001b[39;00m\n\u001b[1;32m    553\u001b[0m \u001b[38;5;124;03m    format string.\"\"\"\u001b[39;00m\n\u001b[0;32m--> 554\u001b[0m     tt, fraction, gmtoff_fraction \u001b[38;5;241m=\u001b[39m \u001b[43m_strptime\u001b[49m\u001b[43m(\u001b[49m\u001b[43mdata_string\u001b[49m\u001b[43m,\u001b[49m\u001b[43m \u001b[49m\u001b[38;5;28;43mformat\u001b[39;49m\u001b[43m)\u001b[49m\n\u001b[1;32m    555\u001b[0m     tzname, gmtoff \u001b[38;5;241m=\u001b[39m tt[\u001b[38;5;241m-\u001b[39m\u001b[38;5;241m2\u001b[39m:]\n\u001b[1;32m    556\u001b[0m     args \u001b[38;5;241m=\u001b[39m tt[:\u001b[38;5;241m6\u001b[39m] \u001b[38;5;241m+\u001b[39m (fraction,)\n",
      "File \u001b[0;32m~/.local/share/uv/python/cpython-3.12.3-macos-aarch64-none/lib/python3.12/_strptime.py:333\u001b[0m, in \u001b[0;36m_strptime\u001b[0;34m(data_string, format)\u001b[0m\n\u001b[1;32m    331\u001b[0m found \u001b[38;5;241m=\u001b[39m format_regex\u001b[38;5;241m.\u001b[39mmatch(data_string)\n\u001b[1;32m    332\u001b[0m \u001b[38;5;28;01mif\u001b[39;00m \u001b[38;5;129;01mnot\u001b[39;00m found:\n\u001b[0;32m--> 333\u001b[0m     \u001b[38;5;28;01mraise\u001b[39;00m \u001b[38;5;167;01mValueError\u001b[39;00m(\u001b[38;5;124m\"\u001b[39m\u001b[38;5;124mtime data \u001b[39m\u001b[38;5;132;01m%r\u001b[39;00m\u001b[38;5;124m does not match format \u001b[39m\u001b[38;5;132;01m%r\u001b[39;00m\u001b[38;5;124m\"\u001b[39m \u001b[38;5;241m%\u001b[39m\n\u001b[1;32m    334\u001b[0m                      (data_string, \u001b[38;5;28mformat\u001b[39m))\n\u001b[1;32m    335\u001b[0m \u001b[38;5;28;01mif\u001b[39;00m \u001b[38;5;28mlen\u001b[39m(data_string) \u001b[38;5;241m!=\u001b[39m found\u001b[38;5;241m.\u001b[39mend():\n\u001b[1;32m    336\u001b[0m     \u001b[38;5;28;01mraise\u001b[39;00m \u001b[38;5;167;01mValueError\u001b[39;00m(\u001b[38;5;124m\"\u001b[39m\u001b[38;5;124munconverted data remains: \u001b[39m\u001b[38;5;132;01m%s\u001b[39;00m\u001b[38;5;124m\"\u001b[39m \u001b[38;5;241m%\u001b[39m\n\u001b[1;32m    337\u001b[0m                       data_string[found\u001b[38;5;241m.\u001b[39mend():])\n",
      "\u001b[0;31mValueError\u001b[0m: time data 'Release date' does not match format '%B %d, %Y'"
     ]
    }
   ],
   "source": [
    "import requests\n",
    "from bs4 import BeautifulSoup\n",
    "from datetime import datetime, date\n",
    "\n",
    "def fetch_python_latest_stable() -> tuple[str, date]:\n",
    "    \"\"\"Scrape python.org for the newest stable release.\"\"\"\n",
    "    url = \"https://www.python.org/downloads/\"\n",
    "    r = requests.get(url)\n",
    "    r.raise_for_status()\n",
    "    soup = BeautifulSoup(r.text, \"html.parser\")\n",
    "\n",
    "    release_spans = soup.select(\"span.release-number a\")\n",
    "    release_dates = soup.select(\"span.release-date\")\n",
    "    if not release_spans or not release_dates:\n",
    "        raise RuntimeError(\"Could not parse python.org downloads page.\")\n",
    "\n",
    "    latest_release = release_spans[0].text.strip()\n",
    "    latest_date_str = release_dates[0].text.strip()\n",
    "\n",
    "    import re\n",
    "    match = re.search(r\"Python\\s+([\\d.]+)\", latest_release)\n",
    "    if not match:\n",
    "        raise ValueError(f\"Could not parse version from text: {latest_release}\")\n",
    "    version = match.group(1)\n",
    "    release_date = datetime.strptime(latest_date_str, \"%B %d, %Y\").date()\n",
    "\n",
    "    return version, release_date\n",
    "\n",
    "\n",
    "fetch_python_latest_stable()"
   ]
  },
  {
   "cell_type": "code",
   "execution_count": 1,
   "metadata": {},
   "outputs": [
    {
     "name": "stdout",
     "output_type": "stream",
     "text": [
      "('Release version', None)\n"
     ]
    }
   ],
   "source": [
    "import requests\n",
    "from bs4 import BeautifulSoup\n",
    "from datetime import datetime, date\n",
    "\n",
    "def get_python_latest_stable():\n",
    "    url = \"https://www.python.org/downloads/\"\n",
    "    resp = requests.get(url)\n",
    "    resp.raise_for_status()\n",
    "\n",
    "    soup = BeautifulSoup(resp.text, \"html.parser\")\n",
    "    # Find the \"latest\" release box. Python.org typically has:\n",
    "    # <span class=\"release-number\">Latest Python 3 Release - Python 3.12.1</span>\n",
    "    release_number_span = soup.find(\"span\", class_=\"release-number\")\n",
    "    latest_text = release_number_span.get_text(strip=True)  # e.g. \"Latest Python 3 Release - Python 3.12.1\"\n",
    "\n",
    "    # Extract version from string\n",
    "    # Typically: \"Latest Python 3 Release - Python 3.12.1\"\n",
    "    # We'll split on \"Python\" and take the last part:\n",
    "    version_str = latest_text.split(\"Python\")[-1].strip()   # \"3.12.1\"\n",
    "\n",
    "    # If we want release date:\n",
    "    release_date_span = soup.find(\"span\", class_=\"release-date\")\n",
    "    # Typically: \"October  2, 2023\"\n",
    "    date_text = release_date_span.get_text(strip=True) if release_date_span else None\n",
    "    if date_text:\n",
    "        try:\n",
    "            release_date = datetime.strptime(date_text, \"%B %d, %Y\").date()\n",
    "        except ValueError:\n",
    "            release_date = None\n",
    "    else:\n",
    "        release_date = None\n",
    "\n",
    "    return version_str, release_date\n",
    "\n",
    "print(get_python_latest_stable())"
   ]
  },
  {
   "cell_type": "code",
   "execution_count": 1,
   "metadata": {},
   "outputs": [
    {
     "name": "stdout",
     "output_type": "stream",
     "text": [
      "(None, None)\n"
     ]
    }
   ],
   "source": [
    "\n",
    "import requests\n",
    "from datetime import datetime, date\n",
    "\n",
    "\n",
    "def get_python_latest_stable() -> tuple[str | None, date | None]:\n",
    "    url = \"https://api.github.com/repos/python/cpython/releases\"\n",
    "    headers = {\"Accept\": \"application/vnd.github.v3+json\"}\n",
    "    response = requests.get(url, headers=headers)\n",
    "    response.raise_for_status()\n",
    "    releases = response.json()\n",
    "    for release in releases:\n",
    "        if not release[\"prerelease\"] and not release[\"draft\"]:\n",
    "            version = release[\"tag_name\"].lstrip(\"v\")  # Remove 'v' prefix\n",
    "            date_str = release[\"published_at\"]\n",
    "            release_date = datetime.fromisoformat(date_str.replace(\"Z\", \"+00:00\")).date()\n",
    "            return version, release_date\n",
    "    return None, None\n",
    "\n",
    "print(get_python_latest_stable())"
   ]
  },
  {
   "cell_type": "markdown",
   "metadata": {},
   "source": [
    "# Java"
   ]
  },
  {
   "cell_type": "code",
   "execution_count": 3,
   "metadata": {},
   "outputs": [
    {
     "name": "stdout",
     "output_type": "stream",
     "text": [
      "('21.0.6.7', datetime.date(2025, 1, 22))\n"
     ]
    }
   ],
   "source": [
    "from datetime import datetime, date\n",
    "\n",
    "def get_java_latest_stable() -> tuple[str | None, date | None]:\n",
    "    url = \"https://api.github.com/repos/adoptium/temurin21-binaries/releases\"\n",
    "    headers = {\"Accept\": \"application/vnd.github.v3+json\"}\n",
    "    response = requests.get(url, headers=headers)\n",
    "    response.raise_for_status()\n",
    "    releases = response.json()\n",
    "    for release in releases:\n",
    "        if not release[\"prerelease\"] and not release[\"draft\"]:\n",
    "            version = release[\"tag_name\"].replace(\"jdk-\", \"\").replace(\"+\", \".\")\n",
    "            date_str = release[\"published_at\"]\n",
    "            release_date = datetime.fromisoformat(date_str.replace(\"Z\", \"+00:00\")).date()\n",
    "            return version, release_date\n",
    "    return None, None\n",
    "\n",
    "print(get_java_latest_stable())"
   ]
  },
  {
   "cell_type": "markdown",
   "metadata": {
    "vscode": {
     "languageId": "plaintext"
    }
   },
   "source": [
    "# Maven"
   ]
  },
  {
   "cell_type": "code",
   "execution_count": 22,
   "metadata": {},
   "outputs": [
    {
     "ename": "HTTPError",
     "evalue": "404 Client Error: Not Found for url: https://repo1.maven.org/maven2/org/spkringframework/boot/spring-boot-starter-parent/maven-metadata.xml",
     "output_type": "error",
     "traceback": [
      "\u001b[0;31m---------------------------------------------------------------------------\u001b[0m",
      "\u001b[0;31mHTTPError\u001b[0m                                 Traceback (most recent call last)",
      "Cell \u001b[0;32mIn[22], line 51\u001b[0m\n\u001b[1;32m     48\u001b[0m group_id \u001b[38;5;241m=\u001b[39m \u001b[38;5;124m\"\u001b[39m\u001b[38;5;124morg.spkringframework.boot\u001b[39m\u001b[38;5;124m\"\u001b[39m\n\u001b[1;32m     49\u001b[0m artifact_id \u001b[38;5;241m=\u001b[39m \u001b[38;5;124m\"\u001b[39m\u001b[38;5;124mspring-boot-starter-parent\u001b[39m\u001b[38;5;124m\"\u001b[39m\n\u001b[0;32m---> 51\u001b[0m version, date \u001b[38;5;241m=\u001b[39m \u001b[43mfetch_maven_version_info\u001b[49m\u001b[43m(\u001b[49m\u001b[43mgroup_id\u001b[49m\u001b[43m,\u001b[49m\u001b[43m \u001b[49m\u001b[43martifact_id\u001b[49m\u001b[43m)\u001b[49m\n\u001b[1;32m     52\u001b[0m \u001b[38;5;28mprint\u001b[39m(\u001b[38;5;124mf\u001b[39m\u001b[38;5;124m\"\u001b[39m\u001b[38;5;124mLatest version: \u001b[39m\u001b[38;5;132;01m{\u001b[39;00mversion\u001b[38;5;132;01m}\u001b[39;00m\u001b[38;5;124m\"\u001b[39m)\n\u001b[1;32m     53\u001b[0m \u001b[38;5;28mprint\u001b[39m(\u001b[38;5;124mf\u001b[39m\u001b[38;5;124m\"\u001b[39m\u001b[38;5;124mRelease date: \u001b[39m\u001b[38;5;132;01m{\u001b[39;00mdate\u001b[38;5;132;01m}\u001b[39;00m\u001b[38;5;124m\"\u001b[39m)\n",
      "Cell \u001b[0;32mIn[22], line 14\u001b[0m, in \u001b[0;36mfetch_maven_version_info\u001b[0;34m(group_id, artifact_id)\u001b[0m\n\u001b[1;32m     12\u001b[0m url \u001b[38;5;241m=\u001b[39m \u001b[38;5;124mf\u001b[39m\u001b[38;5;124m\"\u001b[39m\u001b[38;5;124mhttps://repo1.maven.org/maven2/\u001b[39m\u001b[38;5;132;01m{\u001b[39;00mgroup_path\u001b[38;5;132;01m}\u001b[39;00m\u001b[38;5;124m/\u001b[39m\u001b[38;5;132;01m{\u001b[39;00martifact_id\u001b[38;5;132;01m}\u001b[39;00m\u001b[38;5;124m/maven-metadata.xml\u001b[39m\u001b[38;5;124m\"\u001b[39m\n\u001b[1;32m     13\u001b[0m response \u001b[38;5;241m=\u001b[39m requests\u001b[38;5;241m.\u001b[39mget(url)\n\u001b[0;32m---> 14\u001b[0m \u001b[43mresponse\u001b[49m\u001b[38;5;241;43m.\u001b[39;49m\u001b[43mraise_for_status\u001b[49m\u001b[43m(\u001b[49m\u001b[43m)\u001b[49m\n\u001b[1;32m     16\u001b[0m \u001b[38;5;66;03m# Parse XML\u001b[39;00m\n\u001b[1;32m     17\u001b[0m root \u001b[38;5;241m=\u001b[39m ET\u001b[38;5;241m.\u001b[39mfromstring(response\u001b[38;5;241m.\u001b[39mcontent)\n",
      "File \u001b[0;32m~/llm-lib-lag/.venv/lib/python3.12/site-packages/requests/models.py:1024\u001b[0m, in \u001b[0;36mResponse.raise_for_status\u001b[0;34m(self)\u001b[0m\n\u001b[1;32m   1019\u001b[0m     http_error_msg \u001b[38;5;241m=\u001b[39m (\n\u001b[1;32m   1020\u001b[0m         \u001b[38;5;124mf\u001b[39m\u001b[38;5;124m\"\u001b[39m\u001b[38;5;132;01m{\u001b[39;00m\u001b[38;5;28mself\u001b[39m\u001b[38;5;241m.\u001b[39mstatus_code\u001b[38;5;132;01m}\u001b[39;00m\u001b[38;5;124m Server Error: \u001b[39m\u001b[38;5;132;01m{\u001b[39;00mreason\u001b[38;5;132;01m}\u001b[39;00m\u001b[38;5;124m for url: \u001b[39m\u001b[38;5;132;01m{\u001b[39;00m\u001b[38;5;28mself\u001b[39m\u001b[38;5;241m.\u001b[39murl\u001b[38;5;132;01m}\u001b[39;00m\u001b[38;5;124m\"\u001b[39m\n\u001b[1;32m   1021\u001b[0m     )\n\u001b[1;32m   1023\u001b[0m \u001b[38;5;28;01mif\u001b[39;00m http_error_msg:\n\u001b[0;32m-> 1024\u001b[0m     \u001b[38;5;28;01mraise\u001b[39;00m HTTPError(http_error_msg, response\u001b[38;5;241m=\u001b[39m\u001b[38;5;28mself\u001b[39m)\n",
      "\u001b[0;31mHTTPError\u001b[0m: 404 Client Error: Not Found for url: https://repo1.maven.org/maven2/org/spkringframework/boot/spring-boot-starter-parent/maven-metadata.xml"
     ]
    }
   ],
   "source": [
    "import requests\n",
    "import xml.etree.ElementTree as ET\n",
    "from datetime import datetime\n",
    "\n",
    "def fetch_maven_version_info(group_id: str, artifact_id: str) -> tuple[str, datetime]:\n",
    "    \"\"\"\n",
    "    Fetch the latest version and release date from Maven Central for the given artifact.\n",
    "    \"\"\"\n",
    "    # Convert group_id dots to slashes for URL\n",
    "    group_path = group_id.replace('.', '/')\n",
    "    \n",
    "    url = f\"https://repo1.maven.org/maven2/{group_path}/{artifact_id}/maven-metadata.xml\"\n",
    "    response = requests.get(url)\n",
    "    response.raise_for_status()\n",
    "    \n",
    "    # Parse XML\n",
    "    root = ET.fromstring(response.content)\n",
    "    \n",
    "    # Get latest version\n",
    "    versioning = root.find('versioning')\n",
    "    if versioning is None:\n",
    "        raise ValueError(f\"No versioning info found for {group_id}:{artifact_id}\")\n",
    "        \n",
    "    latest = versioning.find('latest')\n",
    "    if latest is None:\n",
    "        raise ValueError(f\"No latest version found for {group_id}:{artifact_id}\")\n",
    "    \n",
    "    latest_version = latest.text\n",
    "\n",
    "    if latest_version is None:\n",
    "        raise ValueError(f\"No latest version found for {group_id}:{artifact_id}\")\n",
    "    \n",
    "    # Get release date from lastUpdated\n",
    "    last_updated = versioning.find('lastUpdated')\n",
    "    if last_updated is None:\n",
    "        raise ValueError(f\"No lastUpdated found for {group_id}:{artifact_id}\")\n",
    "    \n",
    "    if last_updated.text is None:\n",
    "        raise ValueError(f\"lastUpdated is empty for {group_id}:{artifact_id}\")\n",
    "        \n",
    "    # Convert Maven timestamp (yyyyMMddHHmmss) to datetime\n",
    "    timestamp = last_updated.text\n",
    "    release_dt = datetime.strptime(timestamp, '%Y%m%d%H%M%S')\n",
    "    \n",
    "    return latest_version, release_dt\n",
    "\n",
    "# Example usage\n",
    "group_id = \"org.spkringframework.boot\"\n",
    "artifact_id = \"spring-boot-starter-parent\"\n",
    "\n",
    "version, date = fetch_maven_version_info(group_id, artifact_id)\n",
    "print(f\"Latest version: {version}\")\n",
    "print(f\"Release date: {date}\")"
   ]
  },
  {
   "cell_type": "code",
   "execution_count": null,
   "metadata": {},
   "outputs": [
    {
     "ename": "ValueError",
     "evalue": "Could not find artifact org.springframework.boot:spring-boot-starter-parent:3.4.3 on Maven Central",
     "output_type": "error",
     "traceback": [
      "\u001b[0;31m---------------------------------------------------------------------------\u001b[0m",
      "\u001b[0;31mValueError\u001b[0m                                Traceback (most recent call last)",
      "Cell \u001b[0;32mIn[20], line 48\u001b[0m\n\u001b[1;32m     45\u001b[0m group_id \u001b[38;5;241m=\u001b[39m \u001b[38;5;124m\"\u001b[39m\u001b[38;5;124morg.springframework.boot\u001b[39m\u001b[38;5;124m\"\u001b[39m\n\u001b[1;32m     46\u001b[0m artifact_id \u001b[38;5;241m=\u001b[39m \u001b[38;5;124m\"\u001b[39m\u001b[38;5;124mspring-boot-starter-parent\u001b[39m\u001b[38;5;124m\"\u001b[39m\n\u001b[0;32m---> 48\u001b[0m dt \u001b[38;5;241m=\u001b[39m \u001b[43mfetch_maven_release_date\u001b[49m\u001b[43m(\u001b[49m\n\u001b[1;32m     49\u001b[0m \u001b[43m    \u001b[49m\u001b[43mgroup_id\u001b[49m\u001b[38;5;241;43m=\u001b[39;49m\u001b[43mgroup_id\u001b[49m\u001b[43m,\u001b[49m\n\u001b[1;32m     50\u001b[0m \u001b[43m    \u001b[49m\u001b[43martifact_id\u001b[49m\u001b[38;5;241;43m=\u001b[39;49m\u001b[43martifact_id\u001b[49m\u001b[43m,\u001b[49m\n\u001b[1;32m     51\u001b[0m \u001b[43m    \u001b[49m\u001b[43mversion\u001b[49m\u001b[38;5;241;43m=\u001b[39;49m\u001b[43mversion\u001b[49m\u001b[43m,\u001b[49m\n\u001b[1;32m     52\u001b[0m \u001b[43m)\u001b[49m\n\u001b[1;32m     53\u001b[0m \u001b[38;5;28mprint\u001b[39m(\u001b[38;5;124mf\u001b[39m\u001b[38;5;124m\"\u001b[39m\u001b[38;5;132;01m{\u001b[39;00mgroup_id\u001b[38;5;132;01m}\u001b[39;00m\u001b[38;5;124m:\u001b[39m\u001b[38;5;132;01m{\u001b[39;00martifact_id\u001b[38;5;132;01m}\u001b[39;00m\u001b[38;5;124m:\u001b[39m\u001b[38;5;132;01m{\u001b[39;00mversion\u001b[38;5;132;01m}\u001b[39;00m\u001b[38;5;124m published at: \u001b[39m\u001b[38;5;132;01m{\u001b[39;00mdt\u001b[38;5;241m.\u001b[39misoformat()\u001b[38;5;132;01m}\u001b[39;00m\u001b[38;5;124m\"\u001b[39m)\n",
      "Cell \u001b[0;32mIn[20], line 30\u001b[0m, in \u001b[0;36mfetch_maven_release_date\u001b[0;34m(group_id, artifact_id, version)\u001b[0m\n\u001b[1;32m     28\u001b[0m docs \u001b[38;5;241m=\u001b[39m data\u001b[38;5;241m.\u001b[39mget(\u001b[38;5;124m\"\u001b[39m\u001b[38;5;124mresponse\u001b[39m\u001b[38;5;124m\"\u001b[39m, {})\u001b[38;5;241m.\u001b[39mget(\u001b[38;5;124m\"\u001b[39m\u001b[38;5;124mdocs\u001b[39m\u001b[38;5;124m\"\u001b[39m, [])\n\u001b[1;32m     29\u001b[0m \u001b[38;5;28;01mif\u001b[39;00m \u001b[38;5;129;01mnot\u001b[39;00m docs:\n\u001b[0;32m---> 30\u001b[0m     \u001b[38;5;28;01mraise\u001b[39;00m \u001b[38;5;167;01mValueError\u001b[39;00m(\n\u001b[1;32m     31\u001b[0m         \u001b[38;5;124mf\u001b[39m\u001b[38;5;124m\"\u001b[39m\u001b[38;5;124mCould not find artifact \u001b[39m\u001b[38;5;132;01m{\u001b[39;00mgroup_id\u001b[38;5;132;01m}\u001b[39;00m\u001b[38;5;124m:\u001b[39m\u001b[38;5;132;01m{\u001b[39;00martifact_id\u001b[38;5;132;01m}\u001b[39;00m\u001b[38;5;124m:\u001b[39m\u001b[38;5;132;01m{\u001b[39;00mversion\u001b[38;5;132;01m}\u001b[39;00m\u001b[38;5;124m on Maven Central\u001b[39m\u001b[38;5;124m\"\u001b[39m\n\u001b[1;32m     32\u001b[0m     )\n\u001b[1;32m     34\u001b[0m doc \u001b[38;5;241m=\u001b[39m docs[\u001b[38;5;241m0\u001b[39m]\n\u001b[1;32m     35\u001b[0m \u001b[38;5;28;01massert\u001b[39;00m doc[\u001b[38;5;124m\"\u001b[39m\u001b[38;5;124mg\u001b[39m\u001b[38;5;124m\"\u001b[39m] \u001b[38;5;241m==\u001b[39m group_id, \u001b[38;5;124mf\u001b[39m\u001b[38;5;124m\"\u001b[39m\u001b[38;5;124mGroup mismatch: \u001b[39m\u001b[38;5;132;01m{\u001b[39;00mdoc[\u001b[38;5;124m'\u001b[39m\u001b[38;5;124mg\u001b[39m\u001b[38;5;124m'\u001b[39m]\u001b[38;5;132;01m}\u001b[39;00m\u001b[38;5;124m != \u001b[39m\u001b[38;5;132;01m{\u001b[39;00mgroup_id\u001b[38;5;132;01m}\u001b[39;00m\u001b[38;5;124m\"\u001b[39m\n",
      "\u001b[0;31mValueError\u001b[0m: Could not find artifact org.springframework.boot:spring-boot-starter-parent:3.4.3 on Maven Central"
     ]
    }
   ],
   "source": [
    "from urllib.parse import urlencode\n",
    "import requests\n",
    "from datetime import datetime, UTC\n",
    "\n",
    "def fetch_maven_release_date(group_id: str, artifact_id: str, version: str) -> datetime:\n",
    "    \"\"\"\n",
    "    Returns the UTC datetime at which a specific Maven artifact version\n",
    "    was published to Maven Central, using the search.maven.org API.\n",
    "    \"\"\"\n",
    "    # Build the Solr-style query:\n",
    "    #   q = g:\"groupId\" AND a:\"artifactId\" AND v:\"version\"\n",
    "    #   core=gav (search only group/artifact/version data)\n",
    "    #   rows=1 (just need the first doc)\n",
    "    #   wt=json (we want JSON response)\n",
    "    query = f'g:\"{group_id}\" AND a:\"{artifact_id}\" AND v:\"{version}\"'\n",
    "    url = \"https://search.maven.org/solrsearch/select\"\n",
    "    params = {\n",
    "        \"q\": query,\n",
    "        \"core\": \"gav\",\n",
    "        \"rows\": 1,\n",
    "        \"wt\": \"json\",\n",
    "    }\n",
    "    resp = requests.get(url, params=params)\n",
    "\n",
    "    resp.raise_for_status()\n",
    "    data = resp.json()\n",
    "\n",
    "    docs = data.get(\"response\", {}).get(\"docs\", [])\n",
    "    if not docs: # here raise LibraryVersionNotFoundError\n",
    "        raise ValueError(\n",
    "            f\"Could not find artifact {group_id}:{artifact_id}:{version} on Maven Central\"\n",
    "        )\n",
    "    \n",
    "    doc = docs[0]\n",
    "    assert doc[\"g\"] == group_id, f\"Group mismatch: {doc['g']} != {group_id}\"\n",
    "    assert doc[\"a\"] == artifact_id, f\"Artifact mismatch: {doc['a']} != {artifact_id}\"\n",
    "    assert doc[\"v\"] == version, f\"Version mismatch: {doc['v']} != {version}\"\n",
    "    \n",
    "    # 'timestamp' is epoch milliseconds\n",
    "    ts_millis = docs[0][\"timestamp\"]\n",
    "    return datetime.fromtimestamp(ts_millis / 1000.0, UTC)\n",
    "\n",
    "\n",
    "version = \"3.4.3\"\n",
    "group_id = \"org.springframework.boot\"\n",
    "artifact_id = \"spring-boot-starter-parent\"\n",
    "\n",
    "dt = fetch_maven_release_date(\n",
    "    group_id=group_id,\n",
    "    artifact_id=artifact_id,\n",
    "    version=version,\n",
    ")\n",
    "print(f\"{group_id}:{artifact_id}:{version} published at: {dt.isoformat()}\")\n"
   ]
  },
  {
   "cell_type": "code",
   "execution_count": null,
   "metadata": {},
   "outputs": [],
   "source": []
  },
  {
   "cell_type": "code",
   "execution_count": null,
   "metadata": {},
   "outputs": [],
   "source": []
  },
  {
   "cell_type": "markdown",
   "metadata": {
    "vscode": {
     "languageId": "plaintext"
    }
   },
   "source": [
    "# C# / Nuget"
   ]
  },
  {
   "cell_type": "code",
   "execution_count": 4,
   "metadata": {},
   "outputs": [
    {
     "name": "stdout",
     "output_type": "stream",
     "text": [
      "('9.0.2', datetime.date(2025, 2, 11))\n"
     ]
    }
   ],
   "source": [
    "import requests\n",
    "from datetime import datetime, date\n",
    "\n",
    "def get_dotnet_latest_stable() -> tuple[str, date ]:\n",
    "    url = \"https://api.github.com/repos/dotnet/core/releases\"\n",
    "    headers = {\"Accept\": \"application/vnd.github.v3+json\"}\n",
    "    response = requests.get(url, headers=headers)\n",
    "    response.raise_for_status()\n",
    "    releases = response.json()\n",
    "    for release in releases:\n",
    "        if not release[\"prerelease\"] and not release[\"draft\"] and release[\"tag_name\"].startswith(\"v\"):\n",
    "            version = release[\"tag_name\"].lstrip(\"v\")\n",
    "            date_str = release[\"published_at\"]\n",
    "            release_date = datetime.fromisoformat(date_str.replace(\"Z\", \"+00:00\")).date()\n",
    "            return version, release_date\n",
    "    raise ValueError(\"No stable version found for dotnet\")\n",
    "\n",
    "print(get_dotnet_latest_stable())"
   ]
  },
  {
   "cell_type": "code",
   "execution_count": null,
   "metadata": {},
   "outputs": [],
   "source": [
    "https://api.nuget.org/v3/catalog0/index.json"
   ]
  },
  {
   "cell_type": "markdown",
   "metadata": {
    "vscode": {
     "languageId": "plaintext"
    }
   },
   "source": [
    "# Ruby"
   ]
  },
  {
   "cell_type": "code",
   "execution_count": null,
   "metadata": {},
   "outputs": [],
   "source": [
    "https://rubygems.org/api/v1/gems/<gem_name>.json"
   ]
  },
  {
   "cell_type": "markdown",
   "metadata": {
    "vscode": {
     "languageId": "plaintext"
    }
   },
   "source": [
    "# Go"
   ]
  },
  {
   "cell_type": "code",
   "execution_count": 5,
   "metadata": {},
   "outputs": [
    {
     "ename": "HTTPError",
     "evalue": "404 Client Error: Not Found for url: https://proxy.golang.org/golang.org/x/go/@v/list",
     "output_type": "error",
     "traceback": [
      "\u001b[0;31m---------------------------------------------------------------------------\u001b[0m",
      "\u001b[0;31mHTTPError\u001b[0m                                 Traceback (most recent call last)",
      "Cell \u001b[0;32mIn[5], line 13\u001b[0m\n\u001b[1;32m     10\u001b[0m     version \u001b[38;5;241m=\u001b[39m \u001b[38;5;28mmax\u001b[39m(stable_versions, key\u001b[38;5;241m=\u001b[39m\u001b[38;5;28;01mlambda\u001b[39;00m v: \u001b[38;5;28mtuple\u001b[39m(\u001b[38;5;28mmap\u001b[39m(\u001b[38;5;28mint\u001b[39m, v\u001b[38;5;241m.\u001b[39mlstrip(\u001b[38;5;124m\"\u001b[39m\u001b[38;5;124mv\u001b[39m\u001b[38;5;124m\"\u001b[39m)\u001b[38;5;241m.\u001b[39msplit(\u001b[38;5;124m\"\u001b[39m\u001b[38;5;124m.\u001b[39m\u001b[38;5;124m\"\u001b[39m))))\n\u001b[1;32m     11\u001b[0m     \u001b[38;5;28;01mreturn\u001b[39;00m version\u001b[38;5;241m.\u001b[39mlstrip(\u001b[38;5;124m\"\u001b[39m\u001b[38;5;124mv\u001b[39m\u001b[38;5;124m\"\u001b[39m), \u001b[38;5;28;01mNone\u001b[39;00m  \u001b[38;5;66;03m# Date requires additional scraping\u001b[39;00m\n\u001b[0;32m---> 13\u001b[0m \u001b[38;5;28mprint\u001b[39m(\u001b[43mget_go_latest_stable\u001b[49m\u001b[43m(\u001b[49m\u001b[43m)\u001b[49m)\n",
      "Cell \u001b[0;32mIn[5], line 7\u001b[0m, in \u001b[0;36mget_go_latest_stable\u001b[0;34m()\u001b[0m\n\u001b[1;32m      5\u001b[0m url \u001b[38;5;241m=\u001b[39m \u001b[38;5;124m\"\u001b[39m\u001b[38;5;124mhttps://proxy.golang.org/golang.org/x/go/@v/list\u001b[39m\u001b[38;5;124m\"\u001b[39m\n\u001b[1;32m      6\u001b[0m response \u001b[38;5;241m=\u001b[39m requests\u001b[38;5;241m.\u001b[39mget(url)\n\u001b[0;32m----> 7\u001b[0m \u001b[43mresponse\u001b[49m\u001b[38;5;241;43m.\u001b[39;49m\u001b[43mraise_for_status\u001b[49m\u001b[43m(\u001b[49m\u001b[43m)\u001b[49m\n\u001b[1;32m      8\u001b[0m versions \u001b[38;5;241m=\u001b[39m response\u001b[38;5;241m.\u001b[39mtext\u001b[38;5;241m.\u001b[39msplitlines()\n\u001b[1;32m      9\u001b[0m stable_versions \u001b[38;5;241m=\u001b[39m [v\u001b[38;5;241m.\u001b[39mstrip() \u001b[38;5;28;01mfor\u001b[39;00m v \u001b[38;5;129;01min\u001b[39;00m versions \u001b[38;5;28;01mif\u001b[39;00m \u001b[38;5;129;01mnot\u001b[39;00m \u001b[38;5;28many\u001b[39m(x \u001b[38;5;129;01min\u001b[39;00m v \u001b[38;5;28;01mfor\u001b[39;00m x \u001b[38;5;129;01min\u001b[39;00m [\u001b[38;5;124m\"\u001b[39m\u001b[38;5;124mrc\u001b[39m\u001b[38;5;124m\"\u001b[39m, \u001b[38;5;124m\"\u001b[39m\u001b[38;5;124mbeta\u001b[39m\u001b[38;5;124m\"\u001b[39m, \u001b[38;5;124m\"\u001b[39m\u001b[38;5;124malpha\u001b[39m\u001b[38;5;124m\"\u001b[39m])]\n",
      "File \u001b[0;32m~/llm-lib-lag/.venv/lib/python3.12/site-packages/requests/models.py:1024\u001b[0m, in \u001b[0;36mResponse.raise_for_status\u001b[0;34m(self)\u001b[0m\n\u001b[1;32m   1019\u001b[0m     http_error_msg \u001b[38;5;241m=\u001b[39m (\n\u001b[1;32m   1020\u001b[0m         \u001b[38;5;124mf\u001b[39m\u001b[38;5;124m\"\u001b[39m\u001b[38;5;132;01m{\u001b[39;00m\u001b[38;5;28mself\u001b[39m\u001b[38;5;241m.\u001b[39mstatus_code\u001b[38;5;132;01m}\u001b[39;00m\u001b[38;5;124m Server Error: \u001b[39m\u001b[38;5;132;01m{\u001b[39;00mreason\u001b[38;5;132;01m}\u001b[39;00m\u001b[38;5;124m for url: \u001b[39m\u001b[38;5;132;01m{\u001b[39;00m\u001b[38;5;28mself\u001b[39m\u001b[38;5;241m.\u001b[39murl\u001b[38;5;132;01m}\u001b[39;00m\u001b[38;5;124m\"\u001b[39m\n\u001b[1;32m   1021\u001b[0m     )\n\u001b[1;32m   1023\u001b[0m \u001b[38;5;28;01mif\u001b[39;00m http_error_msg:\n\u001b[0;32m-> 1024\u001b[0m     \u001b[38;5;28;01mraise\u001b[39;00m HTTPError(http_error_msg, response\u001b[38;5;241m=\u001b[39m\u001b[38;5;28mself\u001b[39m)\n",
      "\u001b[0;31mHTTPError\u001b[0m: 404 Client Error: Not Found for url: https://proxy.golang.org/golang.org/x/go/@v/list"
     ]
    }
   ],
   "source": [
    "import requests\n",
    "from datetime import datetime, date\n",
    "\n",
    "def get_go_latest_stable() -> tuple[str, date | None]:\n",
    "    url = \"https://proxy.golang.org/golang.org/x/go/@v/list\"\n",
    "    response = requests.get(url)\n",
    "    response.raise_for_status()\n",
    "    versions = response.text.splitlines()\n",
    "    stable_versions = [v.strip() for v in versions if not any(x in v for x in [\"rc\", \"beta\", \"alpha\"])]\n",
    "    version = max(stable_versions, key=lambda v: tuple(map(int, v.lstrip(\"v\").split(\".\"))))\n",
    "    return version.lstrip(\"v\"), None  # Date requires additional scraping\n",
    "\n",
    "print(get_go_latest_stable())"
   ]
  },
  {
   "cell_type": "markdown",
   "metadata": {
    "vscode": {
     "languageId": "plaintext"
    }
   },
   "source": [
    "# PHP"
   ]
  },
  {
   "cell_type": "code",
   "execution_count": null,
   "metadata": {},
   "outputs": [],
   "source": [
    "https://packagist.org/packages/<vendor>/<package_name>.json\n"
   ]
  },
  {
   "cell_type": "markdown",
   "metadata": {
    "vscode": {
     "languageId": "plaintext"
    }
   },
   "source": [
    "# Rust"
   ]
  },
  {
   "cell_type": "code",
   "execution_count": null,
   "metadata": {},
   "outputs": [],
   "source": []
  },
  {
   "cell_type": "code",
   "execution_count": null,
   "metadata": {},
   "outputs": [],
   "source": [
    "https://crates.io/api/v1/crates/{crate_name}"
   ]
  },
  {
   "cell_type": "markdown",
   "metadata": {},
   "source": [
    "# JavaScript"
   ]
  },
  {
   "cell_type": "code",
   "execution_count": 2,
   "metadata": {},
   "outputs": [
    {
     "name": "stdout",
     "output_type": "stream",
     "text": [
      "('18.20.7', datetime.date(2025, 2, 20))\n"
     ]
    }
   ],
   "source": [
    "import requests\n",
    "from datetime import datetime, date\n",
    "\n",
    "def get_nodejs_latest_stable() -> tuple[str, date | None]:\n",
    "    url = \"https://nodejs.org/dist/index.json\"\n",
    "    response = requests.get(url)\n",
    "    response.raise_for_status()\n",
    "    releases = response.json()\n",
    "    lts_releases = [r for r in releases if r[\"lts\"] is not False]\n",
    "    latest = max(lts_releases, key=lambda x: x[\"date\"])\n",
    "    version = latest[\"version\"].lstrip(\"v\")\n",
    "    release_date = datetime.fromisoformat(latest[\"date\"]).date()\n",
    "    return version, release_date\n",
    "\n",
    "print(get_nodejs_latest_stable())"
   ]
  }
 ],
 "metadata": {
  "kernelspec": {
   "display_name": ".venv",
   "language": "python",
   "name": "python3"
  },
  "language_info": {
   "codemirror_mode": {
    "name": "ipython",
    "version": 3
   },
   "file_extension": ".py",
   "mimetype": "text/x-python",
   "name": "python",
   "nbconvert_exporter": "python",
   "pygments_lexer": "ipython3",
   "version": "3.12.3"
  }
 },
 "nbformat": 4,
 "nbformat_minor": 2
}
