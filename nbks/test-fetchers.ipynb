{
 "cells": [
  {
   "cell_type": "markdown",
   "metadata": {
    "vscode": {
     "languageId": "plaintext"
    }
   },
   "source": [
    "# Maven"
   ]
  },
  {
   "cell_type": "code",
   "execution_count": 22,
   "metadata": {},
   "outputs": [
    {
     "ename": "HTTPError",
     "evalue": "404 Client Error: Not Found for url: https://repo1.maven.org/maven2/org/spkringframework/boot/spring-boot-starter-parent/maven-metadata.xml",
     "output_type": "error",
     "traceback": [
      "\u001b[0;31m---------------------------------------------------------------------------\u001b[0m",
      "\u001b[0;31mHTTPError\u001b[0m                                 Traceback (most recent call last)",
      "Cell \u001b[0;32mIn[22], line 51\u001b[0m\n\u001b[1;32m     48\u001b[0m group_id \u001b[38;5;241m=\u001b[39m \u001b[38;5;124m\"\u001b[39m\u001b[38;5;124morg.spkringframework.boot\u001b[39m\u001b[38;5;124m\"\u001b[39m\n\u001b[1;32m     49\u001b[0m artifact_id \u001b[38;5;241m=\u001b[39m \u001b[38;5;124m\"\u001b[39m\u001b[38;5;124mspring-boot-starter-parent\u001b[39m\u001b[38;5;124m\"\u001b[39m\n\u001b[0;32m---> 51\u001b[0m version, date \u001b[38;5;241m=\u001b[39m \u001b[43mfetch_maven_version_info\u001b[49m\u001b[43m(\u001b[49m\u001b[43mgroup_id\u001b[49m\u001b[43m,\u001b[49m\u001b[43m \u001b[49m\u001b[43martifact_id\u001b[49m\u001b[43m)\u001b[49m\n\u001b[1;32m     52\u001b[0m \u001b[38;5;28mprint\u001b[39m(\u001b[38;5;124mf\u001b[39m\u001b[38;5;124m\"\u001b[39m\u001b[38;5;124mLatest version: \u001b[39m\u001b[38;5;132;01m{\u001b[39;00mversion\u001b[38;5;132;01m}\u001b[39;00m\u001b[38;5;124m\"\u001b[39m)\n\u001b[1;32m     53\u001b[0m \u001b[38;5;28mprint\u001b[39m(\u001b[38;5;124mf\u001b[39m\u001b[38;5;124m\"\u001b[39m\u001b[38;5;124mRelease date: \u001b[39m\u001b[38;5;132;01m{\u001b[39;00mdate\u001b[38;5;132;01m}\u001b[39;00m\u001b[38;5;124m\"\u001b[39m)\n",
      "Cell \u001b[0;32mIn[22], line 14\u001b[0m, in \u001b[0;36mfetch_maven_version_info\u001b[0;34m(group_id, artifact_id)\u001b[0m\n\u001b[1;32m     12\u001b[0m url \u001b[38;5;241m=\u001b[39m \u001b[38;5;124mf\u001b[39m\u001b[38;5;124m\"\u001b[39m\u001b[38;5;124mhttps://repo1.maven.org/maven2/\u001b[39m\u001b[38;5;132;01m{\u001b[39;00mgroup_path\u001b[38;5;132;01m}\u001b[39;00m\u001b[38;5;124m/\u001b[39m\u001b[38;5;132;01m{\u001b[39;00martifact_id\u001b[38;5;132;01m}\u001b[39;00m\u001b[38;5;124m/maven-metadata.xml\u001b[39m\u001b[38;5;124m\"\u001b[39m\n\u001b[1;32m     13\u001b[0m response \u001b[38;5;241m=\u001b[39m requests\u001b[38;5;241m.\u001b[39mget(url)\n\u001b[0;32m---> 14\u001b[0m \u001b[43mresponse\u001b[49m\u001b[38;5;241;43m.\u001b[39;49m\u001b[43mraise_for_status\u001b[49m\u001b[43m(\u001b[49m\u001b[43m)\u001b[49m\n\u001b[1;32m     16\u001b[0m \u001b[38;5;66;03m# Parse XML\u001b[39;00m\n\u001b[1;32m     17\u001b[0m root \u001b[38;5;241m=\u001b[39m ET\u001b[38;5;241m.\u001b[39mfromstring(response\u001b[38;5;241m.\u001b[39mcontent)\n",
      "File \u001b[0;32m~/llm-lib-lag/.venv/lib/python3.12/site-packages/requests/models.py:1024\u001b[0m, in \u001b[0;36mResponse.raise_for_status\u001b[0;34m(self)\u001b[0m\n\u001b[1;32m   1019\u001b[0m     http_error_msg \u001b[38;5;241m=\u001b[39m (\n\u001b[1;32m   1020\u001b[0m         \u001b[38;5;124mf\u001b[39m\u001b[38;5;124m\"\u001b[39m\u001b[38;5;132;01m{\u001b[39;00m\u001b[38;5;28mself\u001b[39m\u001b[38;5;241m.\u001b[39mstatus_code\u001b[38;5;132;01m}\u001b[39;00m\u001b[38;5;124m Server Error: \u001b[39m\u001b[38;5;132;01m{\u001b[39;00mreason\u001b[38;5;132;01m}\u001b[39;00m\u001b[38;5;124m for url: \u001b[39m\u001b[38;5;132;01m{\u001b[39;00m\u001b[38;5;28mself\u001b[39m\u001b[38;5;241m.\u001b[39murl\u001b[38;5;132;01m}\u001b[39;00m\u001b[38;5;124m\"\u001b[39m\n\u001b[1;32m   1021\u001b[0m     )\n\u001b[1;32m   1023\u001b[0m \u001b[38;5;28;01mif\u001b[39;00m http_error_msg:\n\u001b[0;32m-> 1024\u001b[0m     \u001b[38;5;28;01mraise\u001b[39;00m HTTPError(http_error_msg, response\u001b[38;5;241m=\u001b[39m\u001b[38;5;28mself\u001b[39m)\n",
      "\u001b[0;31mHTTPError\u001b[0m: 404 Client Error: Not Found for url: https://repo1.maven.org/maven2/org/spkringframework/boot/spring-boot-starter-parent/maven-metadata.xml"
     ]
    }
   ],
   "source": [
    "import requests\n",
    "import xml.etree.ElementTree as ET\n",
    "from datetime import datetime\n",
    "\n",
    "def fetch_maven_version_info(group_id: str, artifact_id: str) -> tuple[str, datetime]:\n",
    "    \"\"\"\n",
    "    Fetch the latest version and release date from Maven Central for the given artifact.\n",
    "    \"\"\"\n",
    "    # Convert group_id dots to slashes for URL\n",
    "    group_path = group_id.replace('.', '/')\n",
    "    \n",
    "    url = f\"https://repo1.maven.org/maven2/{group_path}/{artifact_id}/maven-metadata.xml\"\n",
    "    response = requests.get(url)\n",
    "    response.raise_for_status()\n",
    "    \n",
    "    # Parse XML\n",
    "    root = ET.fromstring(response.content)\n",
    "    \n",
    "    # Get latest version\n",
    "    versioning = root.find('versioning')\n",
    "    if versioning is None:\n",
    "        raise ValueError(f\"No versioning info found for {group_id}:{artifact_id}\")\n",
    "        \n",
    "    latest = versioning.find('latest')\n",
    "    if latest is None:\n",
    "        raise ValueError(f\"No latest version found for {group_id}:{artifact_id}\")\n",
    "    \n",
    "    latest_version = latest.text\n",
    "\n",
    "    if latest_version is None:\n",
    "        raise ValueError(f\"No latest version found for {group_id}:{artifact_id}\")\n",
    "    \n",
    "    # Get release date from lastUpdated\n",
    "    last_updated = versioning.find('lastUpdated')\n",
    "    if last_updated is None:\n",
    "        raise ValueError(f\"No lastUpdated found for {group_id}:{artifact_id}\")\n",
    "    \n",
    "    if last_updated.text is None:\n",
    "        raise ValueError(f\"lastUpdated is empty for {group_id}:{artifact_id}\")\n",
    "        \n",
    "    # Convert Maven timestamp (yyyyMMddHHmmss) to datetime\n",
    "    timestamp = last_updated.text\n",
    "    release_dt = datetime.strptime(timestamp, '%Y%m%d%H%M%S')\n",
    "    \n",
    "    return latest_version, release_dt\n",
    "\n",
    "# Example usage\n",
    "group_id = \"org.spkringframework.boot\"\n",
    "artifact_id = \"spring-boot-starter-parent\"\n",
    "\n",
    "version, date = fetch_maven_version_info(group_id, artifact_id)\n",
    "print(f\"Latest version: {version}\")\n",
    "print(f\"Release date: {date}\")"
   ]
  },
  {
   "cell_type": "code",
   "execution_count": null,
   "metadata": {},
   "outputs": [
    {
     "ename": "ValueError",
     "evalue": "Could not find artifact org.springframework.boot:spring-boot-starter-parent:3.4.3 on Maven Central",
     "output_type": "error",
     "traceback": [
      "\u001b[0;31m---------------------------------------------------------------------------\u001b[0m",
      "\u001b[0;31mValueError\u001b[0m                                Traceback (most recent call last)",
      "Cell \u001b[0;32mIn[20], line 48\u001b[0m\n\u001b[1;32m     45\u001b[0m group_id \u001b[38;5;241m=\u001b[39m \u001b[38;5;124m\"\u001b[39m\u001b[38;5;124morg.springframework.boot\u001b[39m\u001b[38;5;124m\"\u001b[39m\n\u001b[1;32m     46\u001b[0m artifact_id \u001b[38;5;241m=\u001b[39m \u001b[38;5;124m\"\u001b[39m\u001b[38;5;124mspring-boot-starter-parent\u001b[39m\u001b[38;5;124m\"\u001b[39m\n\u001b[0;32m---> 48\u001b[0m dt \u001b[38;5;241m=\u001b[39m \u001b[43mfetch_maven_release_date\u001b[49m\u001b[43m(\u001b[49m\n\u001b[1;32m     49\u001b[0m \u001b[43m    \u001b[49m\u001b[43mgroup_id\u001b[49m\u001b[38;5;241;43m=\u001b[39;49m\u001b[43mgroup_id\u001b[49m\u001b[43m,\u001b[49m\n\u001b[1;32m     50\u001b[0m \u001b[43m    \u001b[49m\u001b[43martifact_id\u001b[49m\u001b[38;5;241;43m=\u001b[39;49m\u001b[43martifact_id\u001b[49m\u001b[43m,\u001b[49m\n\u001b[1;32m     51\u001b[0m \u001b[43m    \u001b[49m\u001b[43mversion\u001b[49m\u001b[38;5;241;43m=\u001b[39;49m\u001b[43mversion\u001b[49m\u001b[43m,\u001b[49m\n\u001b[1;32m     52\u001b[0m \u001b[43m)\u001b[49m\n\u001b[1;32m     53\u001b[0m \u001b[38;5;28mprint\u001b[39m(\u001b[38;5;124mf\u001b[39m\u001b[38;5;124m\"\u001b[39m\u001b[38;5;132;01m{\u001b[39;00mgroup_id\u001b[38;5;132;01m}\u001b[39;00m\u001b[38;5;124m:\u001b[39m\u001b[38;5;132;01m{\u001b[39;00martifact_id\u001b[38;5;132;01m}\u001b[39;00m\u001b[38;5;124m:\u001b[39m\u001b[38;5;132;01m{\u001b[39;00mversion\u001b[38;5;132;01m}\u001b[39;00m\u001b[38;5;124m published at: \u001b[39m\u001b[38;5;132;01m{\u001b[39;00mdt\u001b[38;5;241m.\u001b[39misoformat()\u001b[38;5;132;01m}\u001b[39;00m\u001b[38;5;124m\"\u001b[39m)\n",
      "Cell \u001b[0;32mIn[20], line 30\u001b[0m, in \u001b[0;36mfetch_maven_release_date\u001b[0;34m(group_id, artifact_id, version)\u001b[0m\n\u001b[1;32m     28\u001b[0m docs \u001b[38;5;241m=\u001b[39m data\u001b[38;5;241m.\u001b[39mget(\u001b[38;5;124m\"\u001b[39m\u001b[38;5;124mresponse\u001b[39m\u001b[38;5;124m\"\u001b[39m, {})\u001b[38;5;241m.\u001b[39mget(\u001b[38;5;124m\"\u001b[39m\u001b[38;5;124mdocs\u001b[39m\u001b[38;5;124m\"\u001b[39m, [])\n\u001b[1;32m     29\u001b[0m \u001b[38;5;28;01mif\u001b[39;00m \u001b[38;5;129;01mnot\u001b[39;00m docs:\n\u001b[0;32m---> 30\u001b[0m     \u001b[38;5;28;01mraise\u001b[39;00m \u001b[38;5;167;01mValueError\u001b[39;00m(\n\u001b[1;32m     31\u001b[0m         \u001b[38;5;124mf\u001b[39m\u001b[38;5;124m\"\u001b[39m\u001b[38;5;124mCould not find artifact \u001b[39m\u001b[38;5;132;01m{\u001b[39;00mgroup_id\u001b[38;5;132;01m}\u001b[39;00m\u001b[38;5;124m:\u001b[39m\u001b[38;5;132;01m{\u001b[39;00martifact_id\u001b[38;5;132;01m}\u001b[39;00m\u001b[38;5;124m:\u001b[39m\u001b[38;5;132;01m{\u001b[39;00mversion\u001b[38;5;132;01m}\u001b[39;00m\u001b[38;5;124m on Maven Central\u001b[39m\u001b[38;5;124m\"\u001b[39m\n\u001b[1;32m     32\u001b[0m     )\n\u001b[1;32m     34\u001b[0m doc \u001b[38;5;241m=\u001b[39m docs[\u001b[38;5;241m0\u001b[39m]\n\u001b[1;32m     35\u001b[0m \u001b[38;5;28;01massert\u001b[39;00m doc[\u001b[38;5;124m\"\u001b[39m\u001b[38;5;124mg\u001b[39m\u001b[38;5;124m\"\u001b[39m] \u001b[38;5;241m==\u001b[39m group_id, \u001b[38;5;124mf\u001b[39m\u001b[38;5;124m\"\u001b[39m\u001b[38;5;124mGroup mismatch: \u001b[39m\u001b[38;5;132;01m{\u001b[39;00mdoc[\u001b[38;5;124m'\u001b[39m\u001b[38;5;124mg\u001b[39m\u001b[38;5;124m'\u001b[39m]\u001b[38;5;132;01m}\u001b[39;00m\u001b[38;5;124m != \u001b[39m\u001b[38;5;132;01m{\u001b[39;00mgroup_id\u001b[38;5;132;01m}\u001b[39;00m\u001b[38;5;124m\"\u001b[39m\n",
      "\u001b[0;31mValueError\u001b[0m: Could not find artifact org.springframework.boot:spring-boot-starter-parent:3.4.3 on Maven Central"
     ]
    }
   ],
   "source": [
    "from urllib.parse import urlencode\n",
    "import requests\n",
    "from datetime import datetime, UTC\n",
    "\n",
    "def fetch_maven_release_date(group_id: str, artifact_id: str, version: str) -> datetime:\n",
    "    \"\"\"\n",
    "    Returns the UTC datetime at which a specific Maven artifact version\n",
    "    was published to Maven Central, using the search.maven.org API.\n",
    "    \"\"\"\n",
    "    # Build the Solr-style query:\n",
    "    #   q = g:\"groupId\" AND a:\"artifactId\" AND v:\"version\"\n",
    "    #   core=gav (search only group/artifact/version data)\n",
    "    #   rows=1 (just need the first doc)\n",
    "    #   wt=json (we want JSON response)\n",
    "    query = f'g:\"{group_id}\" AND a:\"{artifact_id}\" AND v:\"{version}\"'\n",
    "    url = \"https://search.maven.org/solrsearch/select\"\n",
    "    params = {\n",
    "        \"q\": query,\n",
    "        \"core\": \"gav\",\n",
    "        \"rows\": 1,\n",
    "        \"wt\": \"json\",\n",
    "    }\n",
    "    resp = requests.get(url, params=params)\n",
    "\n",
    "    resp.raise_for_status()\n",
    "    data = resp.json()\n",
    "\n",
    "    docs = data.get(\"response\", {}).get(\"docs\", [])\n",
    "    if not docs: # here raise LibraryVersionNotFoundError\n",
    "        raise ValueError(\n",
    "            f\"Could not find artifact {group_id}:{artifact_id}:{version} on Maven Central\"\n",
    "        )\n",
    "    \n",
    "    doc = docs[0]\n",
    "    assert doc[\"g\"] == group_id, f\"Group mismatch: {doc['g']} != {group_id}\"\n",
    "    assert doc[\"a\"] == artifact_id, f\"Artifact mismatch: {doc['a']} != {artifact_id}\"\n",
    "    assert doc[\"v\"] == version, f\"Version mismatch: {doc['v']} != {version}\"\n",
    "    \n",
    "    # 'timestamp' is epoch milliseconds\n",
    "    ts_millis = docs[0][\"timestamp\"]\n",
    "    return datetime.fromtimestamp(ts_millis / 1000.0, UTC)\n",
    "\n",
    "\n",
    "version = \"3.4.3\"\n",
    "group_id = \"org.springframework.boot\"\n",
    "artifact_id = \"spring-boot-starter-parent\"\n",
    "\n",
    "dt = fetch_maven_release_date(\n",
    "    group_id=group_id,\n",
    "    artifact_id=artifact_id,\n",
    "    version=version,\n",
    ")\n",
    "print(f\"{group_id}:{artifact_id}:{version} published at: {dt.isoformat()}\")\n"
   ]
  },
  {
   "cell_type": "code",
   "execution_count": null,
   "metadata": {},
   "outputs": [],
   "source": []
  },
  {
   "cell_type": "code",
   "execution_count": null,
   "metadata": {},
   "outputs": [],
   "source": []
  },
  {
   "cell_type": "markdown",
   "metadata": {
    "vscode": {
     "languageId": "plaintext"
    }
   },
   "source": [
    "# C# / Nuget"
   ]
  },
  {
   "cell_type": "code",
   "execution_count": null,
   "metadata": {},
   "outputs": [],
   "source": []
  },
  {
   "cell_type": "code",
   "execution_count": null,
   "metadata": {},
   "outputs": [],
   "source": [
    "https://api.nuget.org/v3/catalog0/index.json"
   ]
  },
  {
   "cell_type": "markdown",
   "metadata": {
    "vscode": {
     "languageId": "plaintext"
    }
   },
   "source": [
    "# Ruby"
   ]
  },
  {
   "cell_type": "code",
   "execution_count": null,
   "metadata": {},
   "outputs": [],
   "source": [
    "https://rubygems.org/api/v1/gems/<gem_name>.json"
   ]
  },
  {
   "cell_type": "markdown",
   "metadata": {
    "vscode": {
     "languageId": "plaintext"
    }
   },
   "source": [
    "# Go"
   ]
  },
  {
   "cell_type": "code",
   "execution_count": null,
   "metadata": {},
   "outputs": [],
   "source": [
    "pkg.go.dev:"
   ]
  },
  {
   "cell_type": "markdown",
   "metadata": {
    "vscode": {
     "languageId": "plaintext"
    }
   },
   "source": [
    "# PHP"
   ]
  },
  {
   "cell_type": "code",
   "execution_count": null,
   "metadata": {},
   "outputs": [],
   "source": [
    "https://packagist.org/packages/<vendor>/<package_name>.json\n"
   ]
  },
  {
   "cell_type": "markdown",
   "metadata": {
    "vscode": {
     "languageId": "plaintext"
    }
   },
   "source": [
    "# Rust"
   ]
  },
  {
   "cell_type": "code",
   "execution_count": null,
   "metadata": {},
   "outputs": [],
   "source": [
    "https://crates.io/api/v1/crates/{crate_name}"
   ]
  }
 ],
 "metadata": {
  "kernelspec": {
   "display_name": ".venv",
   "language": "python",
   "name": "python3"
  },
  "language_info": {
   "codemirror_mode": {
    "name": "ipython",
    "version": 3
   },
   "file_extension": ".py",
   "mimetype": "text/x-python",
   "name": "python",
   "nbconvert_exporter": "python",
   "pygments_lexer": "ipython3",
   "version": "3.12.3"
  }
 },
 "nbformat": 4,
 "nbformat_minor": 2
}
